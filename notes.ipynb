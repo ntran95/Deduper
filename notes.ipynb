{
 "cells": [
  {
   "cell_type": "code",
   "execution_count": null,
   "metadata": {},
   "outputs": [],
   "source": [
    "sam_file = \"/Users/GioiTran/Documents/shell/Bi624/Deduper/input_sorted_unit_test.sam\"\n",
    "with open(sam_file, \"rt\") as file_handle:\n",
    "    \n",
    "    while True:\n",
    "        \n",
    "        sam_rec = []\n",
    "        \n",
    "        line1 = file_handle.readline().strip()\n",
    "        if line1 == \"\":\n",
    "            break\n",
    "        records = line1.split()\n",
    "        \n",
    "        print(line1)\n",
    "        #print(len(records))\n",
    "        \n",
    "        if len(records) == 15 :\n",
    "            sam_rec.append(records)\n",
    "        #print(sam_rec)\n",
    "            "
   ]
  },
  {
   "cell_type": "code",
   "execution_count": 88,
   "metadata": {},
   "outputs": [
    {
     "name": "stdout",
     "output_type": "stream",
     "text": [
      "['@HD', 'VN:1.4', 'SO:coordinate']\n",
      "['@SQ', 'SN:10', 'LN:45420867']\n",
      "['@SQ', 'SN:11', 'LN:45484837']\n",
      "['@SQ', 'SN:12', 'LN:49182954']\n",
      "['@SQ', 'SN:13', 'LN:52186027']\n",
      "['@SQ', 'SN:14', 'LN:52660232']\n",
      "15\n"
     ]
    }
   ],
   "source": [
    "sam_file = \"/Users/GioiTran/Documents/shell/Bi624/Deduper/input_sorted_unit_test.sam\"\n",
    "with open(sam_file, \"rt\") as filehandle:\n",
    "    LN=0\n",
    "    while True:\n",
    "        line = filehandle.readline().rstrip()\n",
    "        record = line.split()\n",
    "        #print(record)\n",
    "        \n",
    "        if \"@\" in record[0]:\n",
    "            pass\n",
    "        else:\n",
    "            print(len(record))\n",
    "            \n",
    "        \n",
    "            \n",
    "        \n",
    "    \n",
    "        if line == \"\" :\n",
    "            break\n",
    "        if len(record) >= 15:\n",
    "            break\n",
    "            \n",
    "        \n",
    "            \n",
    "        print(record)\n",
    "        #if 15 == 15:\n",
    "         #   print(line)\n",
    "            #LN+=1\n",
    "    "
   ]
  },
  {
   "cell_type": "code",
   "execution_count": 95,
   "metadata": {},
   "outputs": [
    {
     "name": "stdout",
     "output_type": "stream",
     "text": [
      "hi\n",
      "['NS500451:154:HWKTMBGXX:1:11101:15364:1139:AACGCCAT', '2', '1', '59577846', '255', '3S20M3I100N2D45M7S', '=', '59575909', '-2019', 'CACTGAAGCGGATGAAGGAAGACGGAGCCGAGGCGCTTGCAGCCCTGCAGCTCTGGAGGGCAGACATACACCTGATCGAGGGCATGTTCGG', 'FJJFJJJJJJJJJJJJJFFAJJJJJJJJJJJJJJJJJJJJJJJJJJJJJJJJJJJJJJ-F-JJJJJJJJFJJJJJJJJJJJJJJ7JJJJJJ', 'NH:i:1', 'HI:i:1', 'AS:i:120', 'nM:i:3']\n"
     ]
    }
   ],
   "source": [
    "sam_file = \"/Users/GioiTran/Documents/shell/Bi624/Deduper/input_sorted_unit_test.sam\"\n",
    "with open(sam_file, \"rt\") as file_handle:\n",
    "    i = 0\n",
    "    while True:\n",
    "        \n",
    "        reference_rec_dict = {}\n",
    "        i = 0\n",
    "        for line in file_handle:\n",
    "        #print(line)\n",
    "            if \"@\" in line:\n",
    "                pass\n",
    "            else:\n",
    "                ref_rec = line.split()\n",
    "                #print(ref_rec)\n",
    "                #break\n",
    "            \n",
    "            \n",
    "            \n",
    "        print(\"hi\")\n",
    "        print(record)\n",
    "        \n",
    "        \n",
    "        if line == \"\":\n",
    "            break\n",
    "            \n",
    "        if len(ref_rec) < 16:\n",
    "            break\n",
    "            \n",
    "            \n",
    "            \n",
    "            i+=1\n",
    "        "
   ]
  },
  {
   "cell_type": "code",
   "execution_count": null,
   "metadata": {},
   "outputs": [],
   "source": []
  }
 ],
 "metadata": {
  "kernelspec": {
   "display_name": "Python 3",
   "language": "python",
   "name": "python3"
  },
  "language_info": {
   "codemirror_mode": {
    "name": "ipython",
    "version": 3
   },
   "file_extension": ".py",
   "mimetype": "text/x-python",
   "name": "python",
   "nbconvert_exporter": "python",
   "pygments_lexer": "ipython3",
   "version": "3.7.3"
  }
 },
 "nbformat": 4,
 "nbformat_minor": 2
}
